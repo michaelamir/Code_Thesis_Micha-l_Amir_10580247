{
 "cells": [
  {
   "cell_type": "code",
   "execution_count": 1,
   "metadata": {
    "collapsed": true
   },
   "outputs": [],
   "source": [
    "import pandas as pd\n",
    "import numpy as np\n",
    "import csv\n",
    "from os import listdir\n",
    "\n",
    "%matplotlib inline\n",
    "import matplotlib\n",
    "import matplotlib.pyplot as plt\n",
    "matplotlib.style.use('ggplot')"
   ]
  },
  {
   "cell_type": "code",
   "execution_count": null,
   "metadata": {
    "collapsed": true
   },
   "outputs": [],
   "source": [
    "# Dit is de partij_df met het aantal stemmen per partij gebaseerd op de peilingen.\n",
    "partij_df_peiling = pd.DataFrame.from_csv('partij_df_peiling.csv', sep=';')\n",
    "partij_df_peiling"
   ]
  },
  {
   "cell_type": "code",
   "execution_count": null,
   "metadata": {
    "collapsed": true
   },
   "outputs": [],
   "source": [
    "# Dit is de partij_df met het aantal stemmen per partij gebaseerd op de einduitslag.\n",
    "partij_df_uitslag = pd.DataFrame.from_csv('partij_df_uitslag.csv', sep=';')\n",
    "partij_df_uitslag"
   ]
  },
  {
   "cell_type": "code",
   "execution_count": null,
   "metadata": {
    "collapsed": true
   },
   "outputs": [],
   "source": [
    "# stemmen op vrouwen wat je zou verwachten op basis van de peiling.\n",
    "\n",
    "stemmen_van_vrouwen_peiling = partij_df_peiling[['Partij','# stemmen partij', 'Peiling', 'Max_Vrouwen_Volgens_Peilingen']].drop_duplicates()\n",
    "stemmen_van_vrouwen_peiling['# vrouwen stemmen'] = (0.5*stemmen_van_vrouwen_peiling['# stemmen partij']).astype(int)\n",
    "stemmen_van_vrouwen_peiling"
   ]
  },
  {
   "cell_type": "code",
   "execution_count": null,
   "metadata": {
    "collapsed": true
   },
   "outputs": [],
   "source": [
    "# stemmen op vrouwen gebaseerd op de einduitlag.\n",
    "\n",
    "stemmen_van_vrouwen_uitslag = partij_df_uitslag[['Partij','# stemmen partij', 'Peiling', 'Aantal Vrouwen', 'Vrouw_stem_percentage',\n",
    "                                                 'Max_Vrouwen_Volgens_Peilingen']].drop_duplicates()\n",
    "stemmen_van_vrouwen_uitslag['Vrouw_stem_percentage'] = stemmen_van_vrouwen_uitslag['Vrouw_stem_percentage']/100\n",
    "stemmen_van_vrouwen_uitslag['# vrouwen stemmen'] = (stemmen_van_vrouwen_uitslag['Vrouw_stem_percentage']*stemmen_van_vrouwen_uitslag['# stemmen partij']).astype(int)\n",
    "stemmen_van_vrouwen_uitslag\n",
    "                                                 "
   ]
  },
  {
   "cell_type": "code",
   "execution_count": null,
   "metadata": {
    "collapsed": true
   },
   "outputs": [],
   "source": [
    "# Het aantal stemmen pertop N kanidaat op basis van de peiling.\n",
    "\n",
    "partijen = pd.unique(partij_df_peiling.Partij.ravel())\n",
    "max_vrouwen_dict = {}\n",
    "for partij in partijen:\n",
    "    if partij != 'SGP':\n",
    "        loop_stemmen_partij_df = stemmen_van_vrouwen_peiling[stemmen_van_vrouwen_peiling['Partij'] == partij]\n",
    "        max_vrouwen_dict[partij] = loop_stemmen_partij_df['# vrouwen stemmen'].item()/loop_stemmen_partij_df['Max_Vrouwen_Volgens_Peilingen'].item()\n",
    "\n",
    "\n",
    "# hieronder wordt uiteindelijk een df aangemaakt die per partij aangeeft hoeveel stemmen er zijn toewezen per top N kandidaat.    \n",
    "stemmen_op_vrouwen_peiling = pd.DataFrame.from_dict(max_vrouwen_dict, orient='index', dtype=None)\n",
    "stemmen_op_vrouwen_peiling = stemmen_op_vrouwen_peiling.reset_index()\n",
    "stemmen_op_vrouwen_peiling.columns = ['Partij' , 'stemmen per vrouw']\n",
    "stemmen_op_vrouwen_peiling['stemmen per vrouw'] = stemmen_op_vrouwen_peiling['stemmen per vrouw'].astype(int)\n",
    "stemmen_op_vrouwen_peiling#.to_csv('stemmen_op_vrouwen_topN_peiling.csv', sep=',')"
   ]
  },
  {
   "cell_type": "code",
   "execution_count": null,
   "metadata": {
    "collapsed": true
   },
   "outputs": [],
   "source": [
    "# Het aantal stemmen per top N kanidaat gebaseerd op de einduitslag. \n",
    "\n",
    "max_vrouwen_dict = {}\n",
    "for partij in partijen:\n",
    "    if partij != 'SGP':\n",
    "        loop_stemmen_partij_df = stemmen_van_vrouwen_uitslag[stemmen_van_vrouwen_uitslag['Partij'] == partij]\n",
    "        max_vrouwen_dict[partij] = loop_stemmen_partij_df['# vrouwen stemmen'].item()/loop_stemmen_partij_df['Max_Vrouwen_Volgens_Peilingen'].item()\n",
    "        \n",
    "        \n",
    "# hieronder wordt uiteindelijk een df aangemaakt die per partij aangeeft hoeveel stemmen er zijn toewezen per top N kandidaat.    \n",
    "stemmen_op_vrouwen_uitslag = pd.DataFrame.from_dict(max_vrouwen_dict, orient='index', dtype=None)\n",
    "stemmen_op_vrouwen_uitslag = stemmen_op_vrouwen_uitslag.reset_index()\n",
    "stemmen_op_vrouwen_uitslag.columns = ['Partij' , 'stemmen per vrouw']\n",
    "stemmen_op_vrouwen_uitslag['stemmen per vrouw'] = stemmen_op_vrouwen_uitslag['stemmen per vrouw'].astype(int)\n",
    "stemmen_op_vrouwen_uitslag#.to_csv('stemmen_op_vrouwen_topN_uitslag.csv', sep=',')"
   ]
  },
  {
   "cell_type": "code",
   "execution_count": null,
   "metadata": {
    "collapsed": true
   },
   "outputs": [],
   "source": [
    "# Een copy van partij_df_peiling wordt gemaakt. In de copy worden de het aantal stemmen van stemmen_op_vrouwen_uitslag gegeven aan de top kandidaten per partij.\n",
    "\n",
    "partij_df_copy = partij_df_peiling.copy() # copy van partij_df_peiling om values van aantal stemmen kandidaat(vrouw in dit geval) te veranderen.\n",
    "\n",
    "for partij in partijen:\n",
    "    if partij != 'SGP':\n",
    "        # aantal vrouwelijk kandidaten per partij dat de stemmen toegewezen krijgen (top N).\n",
    "        aantal_vrouwen_per_partij = pd.unique(stemmen_van_vrouwen_peiling[stemmen_van_vrouwen_peiling['Partij'] == partij]['Max_Vrouwen_Volgens_Peilingen']).item()\n",
    "        # alle vrouwelijke kandidaten per partij.\n",
    "        vrouwen_per_partij = partij_df_peiling[(partij_df_peiling['Partij'] == partij)&(partij_df_peiling['Geslacht']=='V')]['Kandidaat'].values \n",
    "        \n",
    "        for i in range(int(aantal_vrouwen_per_partij)):\n",
    "            # aantal_stemmen_vrouwen_i is het aantal stemmen top N vrouwelijke kandidaten krijgen.\n",
    "            aantal_stemmen_vrouw_i = stemmen_op_vrouwen_uitslag[stemmen_op_vrouwen_uitslag['Partij'] == partij]['stemmen per vrouw'].item() \n",
    "            # hier krijgen de top N vrouwelijke kandidaten de stemmen in partij_df_copy.\n",
    "            partij_df_copy.loc[partij_df_copy['Kandidaat'] == vrouwen_per_partij[i], '# stemmen kandidaat'] = aantal_stemmen_vrouw_i\n",
    "\n",
    "partij_df_copy"
   ]
  },
  {
   "cell_type": "code",
   "execution_count": null,
   "metadata": {
    "collapsed": true
   },
   "outputs": [],
   "source": [
    "# Het samenstellen van de Tweede Kamer na uitvoering van strategie 1.\n",
    "\n",
    "tweede_kamer_lijst = []\n",
    "for partij in partijen:\n",
    "    # Aantal zetels wordt verdeeld aan de hand van de einduitslag. 'Zetels' staat voor het daadwerkelijke aantal zetels dat een partij ontving.\n",
    "    aantal_zetels = pd.unique(partij_df_uitslag[(partij_df_peiling['Partij'] == partij)]['Zetels'].ravel())[0]\n",
    "    # aantal_boven_voorkeursdrempel is het aantal kandidaten boven de voorkeursdrempel (=15708).\n",
    "    aantal_boven_voorkeursdrempel = len(partij_df_copy[(partij_df_peiling['Partij'] == partij)&(partij_df_copy['# stemmen kandidaat'] > 15708)]) \n",
    "    verschil = aantal_zetels - aantal_boven_voorkeursdrempel\n",
    "    \n",
    "    # Aparte df per partij om te sorteren op '# stemmen kandidaat' waarbij alles wordt geselecteerd van 0 tot het minimum van\n",
    "    # aantal_zetels en aantal_boven_voorkeurs_drempel(welke van de 2 het minste is dus).\n",
    "    per_partij_df = partij_df_copy[partij_df_copy['Partij'] == partij]\n",
    "    eerste_deel = per_partij_df.sort_values(by=['# stemmen kandidaat'], ascending=False)[0:min(aantal_zetels,aantal_boven_voorkeursdrempel)]\n",
    "    # per partij het eerste deel toegevoegd.\n",
    "    tweede_kamer_lijst.append(eerste_deel)\n",
    "    \n",
    "    # als er meer zetels volgens de peilingen zijn dan er boven de voorkeursdrempel zijn gebracht(verschil) dan worden \n",
    "    # de rest van de kandidaten per partij aan de tweede kamer toegevoegd(dit is wanneer de peilingen meer zetels aangeven dan er\n",
    "    # vrouwen in die partij op de kandiatenlijst staan)\n",
    "    if verschil > 0:\n",
    "        tweede_deel = per_partij_df[~per_partij_df['Kandidaat'].isin(eerste_deel['Kandidaat'])].dropna()[0:verschil]\n",
    "        tweede_kamer_lijst.append(tweede_deel)\n",
    "\n",
    "        \n",
    "# hieronder wordt uiteindelijk een df aangemaakt op basis van tweede_kamer_lijst.   \n",
    "tweede_kamer_strategie_topN = pd.concat(tweede_kamer_lijst)        \n",
    "tweede_kamer_strategie_topN = tweede_kamer_strategie_topN[['Partij','Kandidaat', 'Geslacht', '# stemmen kandidaat']].reset_index(drop=True)\n",
    "pd.set_option('display.max_rows', 150)\n",
    "tweede_kamer_strategie_topN"
   ]
  },
  {
   "cell_type": "code",
   "execution_count": 10,
   "metadata": {
    "collapsed": false
   },
   "outputs": [
    {
     "data": {
      "text/plain": [
       "121"
      ]
     },
     "execution_count": 10,
     "metadata": {},
     "output_type": "execute_result"
    }
   ],
   "source": [
    "len(tweede_kamer_strategie_topN[tweede_kamer_strategie_topN['Geslacht'] == 'V'])"
   ]
  }
 ],
 "metadata": {
  "kernelspec": {
   "display_name": "Python 2",
   "language": "python",
   "name": "python2"
  },
  "language_info": {
   "codemirror_mode": {
    "name": "ipython",
    "version": 2
   },
   "file_extension": ".py",
   "mimetype": "text/x-python",
   "name": "python",
   "nbconvert_exporter": "python",
   "pygments_lexer": "ipython2",
   "version": "2.7.11"
  }
 },
 "nbformat": 4,
 "nbformat_minor": 0
}
