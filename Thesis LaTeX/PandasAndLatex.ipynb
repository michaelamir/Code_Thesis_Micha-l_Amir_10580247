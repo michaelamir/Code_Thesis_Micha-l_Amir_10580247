{
 "cells": [
  {
   "cell_type": "code",
   "execution_count": 1,
   "metadata": {
    "collapsed": false
   },
   "outputs": [
    {
     "ename": "ImportError",
     "evalue": "No module named more_itertools",
     "output_type": "error",
     "traceback": [
      "\u001b[1;31m---------------------------------------------------------------------------\u001b[0m",
      "\u001b[1;31mImportError\u001b[0m                               Traceback (most recent call last)",
      "\u001b[1;32m<ipython-input-1-7b2ec5a4c205>\u001b[0m in \u001b[0;36m<module>\u001b[1;34m()\u001b[0m\n\u001b[0;32m      2\u001b[0m \u001b[1;32mimport\u001b[0m \u001b[0mpandas\u001b[0m \u001b[1;32mas\u001b[0m \u001b[0mpd\u001b[0m\u001b[1;33m\u001b[0m\u001b[0m\n\u001b[0;32m      3\u001b[0m \u001b[1;33m\u001b[0m\u001b[0m\n\u001b[1;32m----> 4\u001b[1;33m \u001b[1;32mfrom\u001b[0m  \u001b[0mmore_itertools\u001b[0m \u001b[1;32mimport\u001b[0m \u001b[0munique_everseen\u001b[0m\u001b[1;33m\u001b[0m\u001b[0m\n\u001b[0m\u001b[0;32m      5\u001b[0m \u001b[1;32mfrom\u001b[0m \u001b[0mcollections\u001b[0m \u001b[1;32mimport\u001b[0m \u001b[0mCounter\u001b[0m\u001b[1;33m\u001b[0m\u001b[0m\n\u001b[0;32m      6\u001b[0m \u001b[1;33m\u001b[0m\u001b[0m\n",
      "\u001b[1;31mImportError\u001b[0m: No module named more_itertools"
     ]
    }
   ],
   "source": [
    "%matplotlib inline\n",
    "import pandas as pd\n",
    "\n",
    "from  more_itertools import unique_everseen\n",
    "from collections import Counter\n",
    "\n",
    "\n",
    "def make_nice_string(s):\n",
    "    N= s.split('-')\n",
    "    NU= list(unique_everseen(N))\n",
    "    NC= Counter(N)\n",
    "    NN = [p+'-'+str(NC[p]) for p in NU if p !='']\n",
    "    return ' '.join(NN)\n",
    "#test\n",
    "s= 'Samsom-Samsom-Pechtold-Pechtold-Pechtold-Kuzu-'\n",
    "print make_nice_string(s)\n"
   ]
  },
  {
   "cell_type": "code",
   "execution_count": 2,
   "metadata": {
    "collapsed": false
   },
   "outputs": [
    {
     "name": "stdout",
     "output_type": "stream",
     "text": [
      "Collecting more-iteltools\n"
     ]
    },
    {
     "name": "stderr",
     "output_type": "stream",
     "text": [
      "  Could not find a version that satisfies the requirement more-iteltools (from versions: )\n",
      "No matching distribution found for more-iteltools\n",
      "You are using pip version 8.0.2, however version 8.1.2 is available.\n",
      "You should consider upgrading via the 'python -m pip install --upgrade pip' command.\n"
     ]
    }
   ],
   "source": [
    "!pip install more_iteltools"
   ]
  },
  {
   "cell_type": "code",
   "execution_count": 79,
   "metadata": {
    "collapsed": true
   },
   "outputs": [],
   "source": [
    "df = pd.read_csv('Interruptors_van_Wilders.csv', index_col='date', encoding='utf-8')"
   ]
  },
  {
   "cell_type": "code",
   "execution_count": 80,
   "metadata": {
    "collapsed": false
   },
   "outputs": [
    {
     "data": {
      "text/html": [
       "<div>\n",
       "<table border=\"1\" class=\"dataframe\">\n",
       "  <thead>\n",
       "    <tr style=\"text-align: right;\">\n",
       "      <th></th>\n",
       "      <th>termijn</th>\n",
       "      <th>spreker</th>\n",
       "      <th>rol</th>\n",
       "      <th>indegree</th>\n",
       "      <th>aantal_interrupts</th>\n",
       "      <th>interruptors</th>\n",
       "      <th>interruptie_volgorde</th>\n",
       "      <th>OnderwerpDebat</th>\n",
       "      <th>url</th>\n",
       "      <th>aantal_interrupts_mean</th>\n",
       "      <th>...</th>\n",
       "      <th>Samsom</th>\n",
       "      <th>Segers</th>\n",
       "      <th>Slob</th>\n",
       "      <th>Thieme</th>\n",
       "      <th>Van Haersma Buma</th>\n",
       "      <th>Van Ojik</th>\n",
       "      <th>Van der Staaij</th>\n",
       "      <th>Voordewind</th>\n",
       "      <th>Zijlstra</th>\n",
       "      <th>Öztürk</th>\n",
       "    </tr>\n",
       "    <tr>\n",
       "      <th>date</th>\n",
       "      <th></th>\n",
       "      <th></th>\n",
       "      <th></th>\n",
       "      <th></th>\n",
       "      <th></th>\n",
       "      <th></th>\n",
       "      <th></th>\n",
       "      <th></th>\n",
       "      <th></th>\n",
       "      <th></th>\n",
       "      <th></th>\n",
       "      <th></th>\n",
       "      <th></th>\n",
       "      <th></th>\n",
       "      <th></th>\n",
       "      <th></th>\n",
       "      <th></th>\n",
       "      <th></th>\n",
       "      <th></th>\n",
       "      <th></th>\n",
       "      <th></th>\n",
       "    </tr>\n",
       "  </thead>\n",
       "  <tbody>\n",
       "    <tr>\n",
       "      <th>20122013-03-08</th>\n",
       "      <td>1</td>\n",
       "      <td>Wilders</td>\n",
       "      <td>De heer</td>\n",
       "      <td>0</td>\n",
       "      <td>0</td>\n",
       "      <td>{}</td>\n",
       "      <td>NaN</td>\n",
       "      <td>Debat verkiezingsuitslag</td>\n",
       "      <td>https://zoek.officielebekendmakingen.nl/h-tk-2...</td>\n",
       "      <td>8.416667</td>\n",
       "      <td>...</td>\n",
       "      <td>NaN</td>\n",
       "      <td>NaN</td>\n",
       "      <td>NaN</td>\n",
       "      <td>NaN</td>\n",
       "      <td>NaN</td>\n",
       "      <td>NaN</td>\n",
       "      <td>NaN</td>\n",
       "      <td>NaN</td>\n",
       "      <td>NaN</td>\n",
       "      <td>NaN</td>\n",
       "    </tr>\n",
       "    <tr>\n",
       "      <th>20122013-07-16</th>\n",
       "      <td>1</td>\n",
       "      <td>Wilders</td>\n",
       "      <td>De heer</td>\n",
       "      <td>0</td>\n",
       "      <td>0</td>\n",
       "      <td>{}</td>\n",
       "      <td>NaN</td>\n",
       "      <td>Deelakkoord begroting 2013</td>\n",
       "      <td>https://zoek.officielebekendmakingen.nl/h-tk-2...</td>\n",
       "      <td>7.153846</td>\n",
       "      <td>...</td>\n",
       "      <td>NaN</td>\n",
       "      <td>NaN</td>\n",
       "      <td>NaN</td>\n",
       "      <td>NaN</td>\n",
       "      <td>NaN</td>\n",
       "      <td>NaN</td>\n",
       "      <td>NaN</td>\n",
       "      <td>NaN</td>\n",
       "      <td>NaN</td>\n",
       "      <td>NaN</td>\n",
       "    </tr>\n",
       "    <tr>\n",
       "      <th>20122013-100-03</th>\n",
       "      <td>1</td>\n",
       "      <td>Wilders</td>\n",
       "      <td>De heer</td>\n",
       "      <td>0</td>\n",
       "      <td>0</td>\n",
       "      <td>{}</td>\n",
       "      <td>NaN</td>\n",
       "      <td>Aanbevelingen Europese Commissie extra bezuini...</td>\n",
       "      <td>https://zoek.officielebekendmakingen.nl/h-tk-2...</td>\n",
       "      <td>9.727273</td>\n",
       "      <td>...</td>\n",
       "      <td>NaN</td>\n",
       "      <td>NaN</td>\n",
       "      <td>NaN</td>\n",
       "      <td>NaN</td>\n",
       "      <td>NaN</td>\n",
       "      <td>NaN</td>\n",
       "      <td>NaN</td>\n",
       "      <td>NaN</td>\n",
       "      <td>NaN</td>\n",
       "      <td>NaN</td>\n",
       "    </tr>\n",
       "    <tr>\n",
       "      <th>20122013-100-06</th>\n",
       "      <td>1</td>\n",
       "      <td>Wilders</td>\n",
       "      <td>De heer</td>\n",
       "      <td>0</td>\n",
       "      <td>0</td>\n",
       "      <td>{}</td>\n",
       "      <td>NaN</td>\n",
       "      <td>Aanbevelingen Europese Commissie bezuinigingen</td>\n",
       "      <td>https://zoek.officielebekendmakingen.nl/h-tk-2...</td>\n",
       "      <td>1.909091</td>\n",
       "      <td>...</td>\n",
       "      <td>NaN</td>\n",
       "      <td>NaN</td>\n",
       "      <td>NaN</td>\n",
       "      <td>NaN</td>\n",
       "      <td>NaN</td>\n",
       "      <td>NaN</td>\n",
       "      <td>NaN</td>\n",
       "      <td>NaN</td>\n",
       "      <td>NaN</td>\n",
       "      <td>NaN</td>\n",
       "    </tr>\n",
       "    <tr>\n",
       "      <th>20122013-17-06</th>\n",
       "      <td>1</td>\n",
       "      <td>Wilders</td>\n",
       "      <td>De heer</td>\n",
       "      <td>1</td>\n",
       "      <td>3</td>\n",
       "      <td>{u'Pechtold': 3}</td>\n",
       "      <td>Pechtold-Pechtold-Pechtold</td>\n",
       "      <td>Eindverslag informateurs</td>\n",
       "      <td>https://zoek.officielebekendmakingen.nl/h-tk-2...</td>\n",
       "      <td>0.555556</td>\n",
       "      <td>...</td>\n",
       "      <td>0</td>\n",
       "      <td>0</td>\n",
       "      <td>0</td>\n",
       "      <td>0</td>\n",
       "      <td>0</td>\n",
       "      <td>0</td>\n",
       "      <td>0</td>\n",
       "      <td>0</td>\n",
       "      <td>0</td>\n",
       "      <td>0</td>\n",
       "    </tr>\n",
       "  </tbody>\n",
       "</table>\n",
       "<p>5 rows × 29 columns</p>\n",
       "</div>"
      ],
      "text/plain": [
       "                 termijn  spreker      rol  indegree  aantal_interrupts  \\\n",
       "date                                                                      \n",
       "20122013-03-08         1  Wilders  De heer         0                  0   \n",
       "20122013-07-16         1  Wilders  De heer         0                  0   \n",
       "20122013-100-03        1  Wilders  De heer         0                  0   \n",
       "20122013-100-06        1  Wilders  De heer         0                  0   \n",
       "20122013-17-06         1  Wilders  De heer         1                  3   \n",
       "\n",
       "                     interruptors        interruptie_volgorde  \\\n",
       "date                                                            \n",
       "20122013-03-08                 {}                         NaN   \n",
       "20122013-07-16                 {}                         NaN   \n",
       "20122013-100-03                {}                         NaN   \n",
       "20122013-100-06                {}                         NaN   \n",
       "20122013-17-06   {u'Pechtold': 3}  Pechtold-Pechtold-Pechtold   \n",
       "\n",
       "                                                    OnderwerpDebat  \\\n",
       "date                                                                 \n",
       "20122013-03-08                            Debat verkiezingsuitslag   \n",
       "20122013-07-16                          Deelakkoord begroting 2013   \n",
       "20122013-100-03  Aanbevelingen Europese Commissie extra bezuini...   \n",
       "20122013-100-06     Aanbevelingen Europese Commissie bezuinigingen   \n",
       "20122013-17-06                            Eindverslag informateurs   \n",
       "\n",
       "                                                               url  \\\n",
       "date                                                                 \n",
       "20122013-03-08   https://zoek.officielebekendmakingen.nl/h-tk-2...   \n",
       "20122013-07-16   https://zoek.officielebekendmakingen.nl/h-tk-2...   \n",
       "20122013-100-03  https://zoek.officielebekendmakingen.nl/h-tk-2...   \n",
       "20122013-100-06  https://zoek.officielebekendmakingen.nl/h-tk-2...   \n",
       "20122013-17-06   https://zoek.officielebekendmakingen.nl/h-tk-2...   \n",
       "\n",
       "                 aantal_interrupts_mean   ...    Samsom  Segers  Slob  Thieme  \\\n",
       "date                                      ...                                   \n",
       "20122013-03-08                 8.416667   ...       NaN     NaN   NaN     NaN   \n",
       "20122013-07-16                 7.153846   ...       NaN     NaN   NaN     NaN   \n",
       "20122013-100-03                9.727273   ...       NaN     NaN   NaN     NaN   \n",
       "20122013-100-06                1.909091   ...       NaN     NaN   NaN     NaN   \n",
       "20122013-17-06                 0.555556   ...         0       0     0       0   \n",
       "\n",
       "                 Van Haersma Buma  Van Ojik  Van der Staaij  Voordewind  \\\n",
       "date                                                                      \n",
       "20122013-03-08                NaN       NaN             NaN         NaN   \n",
       "20122013-07-16                NaN       NaN             NaN         NaN   \n",
       "20122013-100-03               NaN       NaN             NaN         NaN   \n",
       "20122013-100-06               NaN       NaN             NaN         NaN   \n",
       "20122013-17-06                  0         0               0           0   \n",
       "\n",
       "                 Zijlstra  Öztürk  \n",
       "date                               \n",
       "20122013-03-08        NaN     NaN  \n",
       "20122013-07-16        NaN     NaN  \n",
       "20122013-100-03       NaN     NaN  \n",
       "20122013-100-06       NaN     NaN  \n",
       "20122013-17-06          0       0  \n",
       "\n",
       "[5 rows x 29 columns]"
      ]
     },
     "execution_count": 80,
     "metadata": {},
     "output_type": "execute_result"
    }
   ],
   "source": [
    "df.head()"
   ]
  },
  {
   "cell_type": "markdown",
   "metadata": {},
   "source": [
    "# Saving a plot to a png figure"
   ]
  },
  {
   "cell_type": "code",
   "execution_count": 14,
   "metadata": {
    "collapsed": false
   },
   "outputs": [
    {
     "name": "stdout",
     "output_type": "stream",
     "text": [
      "-rw-r--r--  1 admin  staff  29895 Apr 15 11:36 WildersPlot.png\r\n"
     ]
    },
    {
     "data": {
      "image/png": "[encoded data removed]",
      "text/plain": [
       "<matplotlib.figure.Figure at 0x1111bc290>"
      ]
     },
     "metadata": {},
     "output_type": "display_data"
    }
   ],
   "source": [
    "plot= df.indegree.plot(figsize=(15,6), title='Aantal kamerleden die Wilders interrumpeerden per debat')\n",
    "fig = plot.get_figure()\n",
    "fig.savefig('WildersPlot.png')\n",
    "!ls -l WildersPlot.png"
   ]
  },
  {
   "cell_type": "markdown",
   "metadata": {},
   "source": [
    "# Saving a dataframe to a Latex table"
   ]
  },
  {
   "cell_type": "code",
   "execution_count": 93,
   "metadata": {
    "collapsed": false
   },
   "outputs": [
    {
     "data": {
      "text/html": [
       "<div>\n",
       "<table border=\"1\" class=\"dataframe\">\n",
       "  <thead>\n",
       "    <tr style=\"text-align: right;\">\n",
       "      <th></th>\n",
       "      <th>indegree</th>\n",
       "      <th>interruptie_volgorde</th>\n",
       "    </tr>\n",
       "    <tr>\n",
       "      <th>date</th>\n",
       "      <th></th>\n",
       "      <th></th>\n",
       "    </tr>\n",
       "  </thead>\n",
       "  <tbody>\n",
       "    <tr>\n",
       "      <th>20122013-03-08</th>\n",
       "      <td>0</td>\n",
       "      <td></td>\n",
       "    </tr>\n",
       "    <tr>\n",
       "      <th>20122013-07-16</th>\n",
       "      <td>0</td>\n",
       "      <td></td>\n",
       "    </tr>\n",
       "    <tr>\n",
       "      <th>20122013-100-03</th>\n",
       "      <td>0</td>\n",
       "      <td></td>\n",
       "    </tr>\n",
       "    <tr>\n",
       "      <th>20122013-100-06</th>\n",
       "      <td>0</td>\n",
       "      <td></td>\n",
       "    </tr>\n",
       "    <tr>\n",
       "      <th>20122013-17-06</th>\n",
       "      <td>1</td>\n",
       "      <td>Pechtold-Pechtold-Pechtold</td>\n",
       "    </tr>\n",
       "  </tbody>\n",
       "</table>\n",
       "</div>"
      ],
      "text/plain": [
       "                 indegree        interruptie_volgorde\n",
       "date                                                 \n",
       "20122013-03-08          0                            \n",
       "20122013-07-16          0                            \n",
       "20122013-100-03         0                            \n",
       "20122013-100-06         0                            \n",
       "20122013-17-06          1  Pechtold-Pechtold-Pechtold"
      ]
     },
     "execution_count": 93,
     "metadata": {},
     "output_type": "execute_result"
    }
   ],
   "source": [
    "mydf=df[[ 'indegree','interruptie_volgorde' ]].fillna('')\n",
    "mydf.head()"
   ]
  },
  {
   "cell_type": "code",
   "execution_count": 89,
   "metadata": {
    "collapsed": false
   },
   "outputs": [
    {
     "name": "stdout",
     "output_type": "stream",
     "text": [
      "\\begin{tabular}{lrl}\n",
      "\\toprule\n",
      "{} &  indegree & interruptie\\_volgorde \\\\\n",
      "date            &           &                      \\\\\n",
      "\\midrule\n",
      "20122013-03-08  &         0 &                      \\\\\n",
      "20122013-07-16  &         0 &                      \\\\\n",
      "20122013-100-03 &         0 &                      \\\\\n",
      "20122013-100-06 &         0 &                      \\\\\n",
      "20122013-17-06  &         1 &           Pechtold-3 \\\\\n",
      "\\bottomrule\n",
      "\\end{tabular}\n",
      "\n"
     ]
    }
   ],
   "source": [
    "mydf.interruptie_volgorde=mydf.interruptie_volgorde.apply(make_nice_string)\n",
    "t= mydf.head().to_latex()\n",
    "\n",
    "print t"
   ]
  },
  {
   "cell_type": "code",
   "execution_count": 94,
   "metadata": {
    "collapsed": false
   },
   "outputs": [],
   "source": [
    "t=mydf.to_latex()"
   ]
  },
  {
   "cell_type": "code",
   "execution_count": 95,
   "metadata": {
    "collapsed": false
   },
   "outputs": [
    {
     "name": "stdout",
     "output_type": "stream",
     "text": [
      "\\begin{tabular}{lrl}\r\n",
      "\\toprule\r\n",
      "{} &  indegree &                               interruptie\\_volgorde \\\\\r\n",
      "date            &           &                                                    \\\\\r\n",
      "\\midrule\r\n",
      "20122013-03-08  &         0 &                                                    \\\\\r\n",
      "20122013-07-16  &         0 &                                                    \\\\\r\n",
      "20122013-100-03 &         0 &                                                    \\\\\r\n",
      "20122013-100-06 &         0 &                                                    \\\\\r\n",
      "20122013-17-06  &         1 &                         Pechtold-Pechtold-Pechtold \\\\\r\n"
     ]
    }
   ],
   "source": [
    "with  open('WildersTable.tex', 'w') as f:\n",
    "    f.write(t.encode(\"UTF-8\"))\n",
    "!head WildersTable.tex"
   ]
  },
  {
   "cell_type": "code",
   "execution_count": 91,
   "metadata": {
    "collapsed": false
   },
   "outputs": [
    {
     "name": "stdout",
     "output_type": "stream",
     "text": [
      "Interruptors_van_Wilders.csv conclusions.tex              main.out                     methodology.log\r\n",
      "PandasAndLatex.ipynb         evaluation.tex               main.pdf                     methodology.tex\r\n",
      "README.md                    introduction.tex             main.synctex.gz              related_work.tex\r\n",
      "WildersPlot.png              main.aux                     main.tex                     sargent-lecture_slides.pdf\r\n",
      "WildersTable.tex             main.log                     main.toc                     titlepage.tex\r\n"
     ]
    }
   ],
   "source": [
    "!ls"
   ]
  },
  {
   "cell_type": "code",
   "execution_count": 92,
   "metadata": {
    "collapsed": true
   },
   "outputs": [],
   "source": [
    "!rm *.log"
   ]
  },
  {
   "cell_type": "code",
   "execution_count": null,
   "metadata": {
    "collapsed": true
   },
   "outputs": [],
   "source": []
  }
 ],
 "metadata": {
  "kernelspec": {
   "display_name": "Python 2",
   "language": "python",
   "name": "python2"
  },
  "language_info": {
   "codemirror_mode": {
    "name": "ipython",
    "version": 2
   },
   "file_extension": ".py",
   "mimetype": "text/x-python",
   "name": "python",
   "nbconvert_exporter": "python",
   "pygments_lexer": "ipython2",
   "version": "2.7.11"
  }
 },
 "nbformat": 4,
 "nbformat_minor": 0
}
